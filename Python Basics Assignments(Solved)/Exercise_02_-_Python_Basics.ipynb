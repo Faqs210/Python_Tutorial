{
 "cells": [
  {
   "cell_type": "markdown",
   "metadata": {},
   "source": [
    "<img src=\"http://upxacademy.com/wp-content/uploads/2016/07/upx-logo-02-e1467712070244.png\">\n",
    "# UpX Academy - Python Basics 02\n",
    "## Exercise 02\n",
    "\n",
    "### Lists\n",
    "\n",
    "#### First List\n",
    "- Store the values 'python', 'c', and 'java' in a list. Print each of these values out, using their position in the list.\n",
    "\n",
    "#### First Neat List\n",
    "- Store the values 'python', 'c', and 'java' in a list. Print a statement about each of these values, using their position in the list.\n",
    "- Your statement could simply be, 'A nice programming language is *value*.'\n"
   ]
  },
  {
   "cell_type": "code",
   "execution_count": 2,
   "metadata": {
    "collapsed": false
   },
   "outputs": [
    {
     "name": "stdout",
     "output_type": "stream",
     "text": [
      "python\n",
      "c\n",
      "A nice programming language is cjava\n"
     ]
    }
   ],
   "source": [
    "#YOUR CODE HERE\n",
    "\n",
    "flist=['python','c','java']\n",
    "print(flist[0])\n",
    "print(flist[1])\n",
    "print('A nice programming language is '+str(flist[1])+flist[2])"
   ]
  },
  {
   "cell_type": "markdown",
   "metadata": {},
   "source": [
    "#### Working List\n",
    "- Make a list that includes four careers, such as 'programmer' and 'truck driver'.\n",
    "- Use the *list.index()* function to find the index of one career in your list.\n",
    "- Use the *in* function to show that this career is in your list.\n",
    "- Use the *append()* function to add a new career to your list.\n",
    "- Use the *insert()* function to add a new career at the beginning of the list.\n",
    "- Use a loop to show all the careers in your list."
   ]
  },
  {
   "cell_type": "code",
   "execution_count": 39,
   "metadata": {
    "collapsed": false
   },
   "outputs": [
    {
     "name": "stdout",
     "output_type": "stream",
     "text": [
      "['programmer', 'truck', 'business', 'student']\n",
      "1\n",
      "True\n",
      "True\n",
      "['programmer', 'truck', 'business', 'student', 'barber']\n",
      "['analyst', 'programmer', 'truck', 'business', 'student', 'barber']\n",
      "start\n",
      "6\n",
      "analyst\n",
      "programmer\n",
      "truck\n",
      "business\n",
      "student\n",
      "barber\n"
     ]
    }
   ],
   "source": [
    "carrer=['programmer','truck','business','student']\n",
    "print(carrer)\n",
    "#help(list.index)\n",
    "ind=carrer.index(\"truck\")\n",
    "print(ind)\n",
    "x='truck' in carrer\n",
    "print(x)\n",
    "print('programmer' in carrer)\n",
    "carrer.append(\"barber\")\n",
    "print(carrer)\n",
    "carrer.insert(0,\"analyst\")\n",
    "print(carrer)\n",
    "print(\"start\")\n",
    "i=0\n",
    "length=len(carrer)\n",
    "print(length)\n",
    "while i<length:\n",
    "    print(carrer[i])\n",
    "    i+=1"
   ]
  },
  {
   "cell_type": "markdown",
   "metadata": {},
   "source": [
    "#### Ordered Working List\n",
    "- Start with the list you created in *Working List*.\n",
    "- You are going to print out the list in a number of different orders.\n",
    "- Each time you print the list, use a for loop rather than printing the raw list.\n",
    "- Print a message each time telling us what order we should see the list in.\n",
    "    - Print the list in its original order.\n",
    "    - Print the list in "
   ]
  },
  {
   "cell_type": "code",
   "execution_count": 41,
   "metadata": {
    "collapsed": false
   },
   "outputs": [
    {
     "name": "stdout",
     "output_type": "stream",
     "text": [
      "['analyst', 'programmer', 'truck', 'business', 'student', 'barber']\n"
     ]
    }
   ],
   "source": [
    "print(carrer)"
   ]
  },
  {
   "cell_type": "markdown",
   "metadata": {},
   "source": [
    "#### alphabetical order.\n",
    "    - Print the list in reverse alphabetical order.\n",
    "    - Print the list in the reverse order from what it started.\n",
    "    - Permanently sort the list in alphabetical order, and then print it out.\n",
    "    - Permanently sort the list in reverse alphabetical order, and then print it out."
   ]
  },
  {
   "cell_type": "code",
   "execution_count": 74,
   "metadata": {
    "collapsed": false
   },
   "outputs": [
    {
     "name": "stdout",
     "output_type": "stream",
     "text": [
      "['programmer', 'business', 'student', 'analyst', 'barber', 'truck']\n",
      "Help on method_descriptor:\n",
      "\n",
      "sort(...)\n",
      "    L.sort(key=None, reverse=False) -> None -- stable sort *IN PLACE*\n",
      "\n",
      "programmer\n",
      "business\n",
      "student\n",
      "analyst\n",
      "barber\n",
      "truck\n",
      "truck\n",
      "barber\n",
      "analyst\n",
      "student\n",
      "business\n",
      "programmer\n",
      "['analyst', 'barber', 'business', 'programmer', 'student', 'truck']\n",
      "['truck', 'student', 'programmer', 'business', 'barber', 'analyst']\n"
     ]
    }
   ],
   "source": [
    "print(carrer)\n",
    "help(list.sort)\n",
    "j=0\n",
    "for i in carrer:\n",
    "    print(carrer[j])\n",
    "    j+=1\n",
    "    \n",
    "k=len(carrer)-1\n",
    "for i in carrer:\n",
    "    print(carrer[k])\n",
    "    k-=1\n",
    "    \n",
    "print(sorted(carrer))\n",
    "print(sorted(carrer,reverse=True))\n"
   ]
  },
  {
   "cell_type": "markdown",
   "metadata": {},
   "source": [
    "#### Ordered Numbers\n",
    "- Make a list of 5 numbers, in a random order.\n",
    "- You are going to print out the list in a number of different orders.\n",
    "- Each time you print the list, use a for loop rather than printing the raw list.\n",
    "- Print a message each time telling us what order we should see the list in.\n",
    "    - Print the numbers in the original order.\n",
    "    - Print the numbers in increasing order.\n",
    "    - Print the numbers in decreasing order.\n",
    "    - Print the numbers in the reverse order from how they started.\n",
    "    - Permanently sort the numbers in increasing order, and then print them out.\n",
    "    - Permanently sort the numbers in descreasing order, and then print them out."
   ]
  },
  {
   "cell_type": "code",
   "execution_count": 108,
   "metadata": {
    "collapsed": false
   },
   "outputs": [
    {
     "name": "stdout",
     "output_type": "stream",
     "text": [
      "[10, 2, 13, 34, 9]\n",
      "Print the numbers in the original order.\n",
      "10\n",
      "2\n",
      "13\n",
      "34\n",
      "9\n",
      "Print the numbers in increasing order.\n",
      "[2, 9, 10, 13, 34]\n",
      "Print the numbers in decreasing order.\n",
      "[34, 13, 10, 9, 2]\n",
      "Print the numbers in the reverse order from how they started.\n",
      "<list_reverseiterator object at 0x0000000004DA90B8>\n",
      "10\n",
      "2\n",
      "13\n",
      "34\n",
      "9\n",
      "34\n",
      "13\n",
      "10\n",
      "9\n",
      "2\n"
     ]
    }
   ],
   "source": [
    "num=[10,2,13,34,9]\n",
    "print(num)\n",
    "print(\"Print the numbers in the original order.\")\n",
    "for i in num:\n",
    "    print(i)\n",
    "\n",
    "print(\"Print the numbers in increasing order.\")\n",
    "print(sorted(num))\n",
    "#help(sorted)\n",
    "print(\"Print the numbers in decreasing order.\")\n",
    "print(sorted(num,reverse=True))\n",
    "\n",
    "print(\"Print the numbers in the reverse order from how they started.\")\n",
    "#help(reversed)\n",
    "print(reversed(num))\n",
    "\n",
    "for i in num:\n",
    "    print(i)\n",
    "\n",
    "num.sort(reverse=True)\n",
    "for i in num:\n",
    "    print(i)\n"
   ]
  },
  {
   "cell_type": "markdown",
   "metadata": {},
   "source": [
    "#### List Lengths\n",
    "\n",
    "\n",
    "- Copy two or three of the lists you made from the previous exercises, or make up two or three new lists.\n",
    "- Print out a series of statements that tell us how long each list is."
   ]
  },
  {
   "cell_type": "code",
   "execution_count": null,
   "metadata": {
    "collapsed": true
   },
   "outputs": [],
   "source": [
    "l1=[1,2,3,4,5,6]\n",
    "l2=['asasd','ds','z',2,3]\n",
    "print(len(l1))\n",
    "#print(l2.length)"
   ]
  },
  {
   "cell_type": "markdown",
   "metadata": {},
   "source": [
    "#### Famous People\n",
    "- Make a list that includes the names of four famous people.\n",
    "- Remove each person from the list, one at a time, using each of the four methods we have just seen:\n",
    "    - Pop the last item from the list, and pop any item except the last item.\n",
    "    - Remove one item by its position, and one item by its value.\n",
    "- Print out a message that there are no famous people left in your list, and print your list to prove that it is empty."
   ]
  },
  {
   "cell_type": "code",
   "execution_count": null,
   "metadata": {
    "collapsed": true
   },
   "outputs": [],
   "source": [
    "famous=['ram','sham','lam','tam','nam']\n",
    "print(famous)\n",
    "famous.remove('ram')\n",
    "print(famous)\n",
    "famous.pop(1)#or use del famous(0)\n",
    "print(famous)"
   ]
  },
  {
   "cell_type": "markdown",
   "metadata": {},
   "source": [
    "#### Alphabet Slices\n",
    "- Store the first ten letters of the alphabet in a list.\n",
    "- Use a slice to print out the first three letters of the alphabet.\n",
    "- Use a slice to print out any three letters from the middle of your list.\n",
    "- Use a slice to print out the letters from any point in the middle of your list, to the end."
   ]
  },
  {
   "cell_type": "code",
   "execution_count": 2,
   "metadata": {
    "collapsed": false
   },
   "outputs": [
    {
     "name": "stdout",
     "output_type": "stream",
     "text": [
      "['a', 'b', 'c']\n",
      "['e', 'f', 'g']\n",
      "['f', 'g', 'h', 'i', 'j']\n",
      "10\n"
     ]
    }
   ],
   "source": [
    "alphabet=['a','b','c','d','e','f','g','h','i','j']\n",
    "print(alphabet[:3])\n",
    "print(alphabet[4:7])\n",
    "print(alphabet[5:])\n",
    "\n",
    "#to get the length\n",
    "\n",
    "print(len(alphabet))"
   ]
  },
  {
   "cell_type": "markdown",
   "metadata": {},
   "source": [
    "#### Protected List\n",
    "- Your goal in this exercise is to prove that copying a list protects the original list.\n",
    "- Make a list with three people's names in it.\n",
    "- Use a slice to make a copy of the entire list.\n",
    "- Add at least two new names to the new copy of the list.\n",
    "- Make a loop that prints out all of the names in the original list, along with a message that this is the original list.\n",
    "- Make a loop that prints out all of the names in the copied list, along with a message that this is the copied list."
   ]
  },
  {
   "cell_type": "code",
   "execution_count": 22,
   "metadata": {
    "collapsed": false
   },
   "outputs": [
    {
     "name": "stdout",
     "output_type": "stream",
     "text": [
      "['ram', 'sham', 'lam', 'tam', 'nam']\n",
      "original= ram\n",
      "original= sham\n",
      "original= lam\n",
      "new= ram\n",
      "new= sham\n",
      "new= lam\n",
      "new= tam\n",
      "new= nam\n",
      "['ram', 'sham', 'lam', 'tam', 'nam']\n",
      "['ram', 'sham', 'lam', 'tam', 'nam']\n"
     ]
    }
   ],
   "source": [
    "name=['ram','sham','lam']\n",
    "name1=name[:]#to make a new copy not the address\n",
    "name1.extend(['tam','nam'])#can also use append\n",
    "print(name1)\n",
    "\n",
    "for i in name:\n",
    "    print('original= '+i)\n",
    "    \n",
    "for i in name1:\n",
    "    print('new= '+i)\n",
    "\n",
    "#The list below is not protected, must insure this    \n",
    "name=['ram','sham','lam']\n",
    "name1=name\n",
    "name1.extend(['tam','nam'])\n",
    "print(name1)\n",
    "print(name)\n",
    "    \n"
   ]
  },
  {
   "cell_type": "markdown",
   "metadata": {},
   "source": [
    "#### First Twenty\n",
    "- Use the *range()* function to store the first twenty numbers (1-20) in a list, and print them out.\n",
    "\n",
    "#### Five Wallets\n",
    "- Imagine five wallets with different amounts of cash in them. Store these five values in a list, and print out the following sentences:\n",
    "    - \"The fattest wallet has $ *value* in it.\"\n",
    "    - \"The skinniest wallet has $ *value* in it.\"\n",
    "    - \"All together, these wallets have $ *value* in them.\""
   ]
  },
  {
   "cell_type": "code",
   "execution_count": 40,
   "metadata": {
    "collapsed": false
   },
   "outputs": [
    {
     "name": "stdout",
     "output_type": "stream",
     "text": [
      "[1, 2, 3, 4, 5, 6, 7, 8, 9, 10, 11, 12, 13, 14, 15, 16, 17, 18, 19, 20]\n",
      "The fattest wallet has  500\n",
      "Theskinniestwallethas    10\n",
      "total = 618\n"
     ]
    },
    {
     "data": {
      "text/plain": [
       "'total is $618'"
      ]
     },
     "execution_count": 40,
     "metadata": {},
     "output_type": "execute_result"
    }
   ],
   "source": [
    "#help(range)\n",
    "rng=list(range(1,21))\n",
    "print(rng)\n",
    "\n",
    "#for i in rng:\n",
    "#    print(i)\n",
    "    \n",
    "wallet=[20,45,10,500,43]\n",
    "print(\"The fattest wallet has  \" + str(max(wallet)))\n",
    "print(\"Theskinniestwallethas    \" + str(min(wallet)))\n",
    "print(\"total = \" +str(sum(wallet)))\n",
    "\n",
    "format='total is $%d'\n",
    "format %(sum(wallet))"
   ]
  },
  {
   "cell_type": "markdown",
   "metadata": {},
   "source": [
    "#### Multiples of Ten\n",
    "- Make a list of the first ten multiples of ten (10, 20, 30... 90, 100). There are a number of ways to do this, but try to do it using a list comprehension. Print out your list.\n",
    "\n",
    "#### Cubes\n",
    "- We saw how to make a list of the first ten squares. Make a list of the first ten cubes (1, 8, 27... 1000) using a list comprehension, and print them out.\n",
    "\n",
    "#### Awesomeness\n",
    "- Store five names in a list. Make a second list that adds the phrase \"is awesome!\" to each name, using a list comprehension. Print out the awesome version of the names.\n"
   ]
  },
  {
   "cell_type": "code",
   "execution_count": 3,
   "metadata": {
    "collapsed": false
   },
   "outputs": [
    {
     "name": "stdout",
     "output_type": "stream",
     "text": [
      "[10, 20, 30, 40, 50, 60, 70, 80, 90, 100]\n",
      "[10, 20, 30, 40, 50, 60, 70, 80, 90, 100]\n",
      "[1, 8, 27, 64, 125, 216, 343, 512, 729, 1000]\n",
      "ram is awesome\n",
      "sham is awesome\n",
      "lam is awesome\n",
      "tam is awesome\n",
      "nam is awesome\n"
     ]
    }
   ],
   "source": [
    "mul=list(number * 10 for number in range(1,11))\n",
    "print(mul)\n",
    "multiples=list(range(10,110,10))\n",
    "print(multiples)\n",
    "\n",
    "#More powerful method is to use list and for loop inside it\n",
    "\n",
    "#My use\n",
    "newlist=[]\n",
    "for i in list(range(1,11)):\n",
    "    newlist.append(i**3)\n",
    "print(newlist)\n",
    "\n",
    "#Solutions assignments\n",
    "#cubes = list(number**3 for number in range(1,11))\n",
    "\n",
    "    \n",
    "name=['ram','sham','lam','tam','nam']\n",
    "newname=[]\n",
    "for i in list(range(0,len(name))):\n",
    "    newname.append(name[i]+\" is awesome\")\n",
    "    print(newname[i])\n",
    "\n",
    "    \n",
    "#Similarly\n",
    "#awesome = list(name.title()+' is awesome!' for name in names)"
   ]
  },
  {
   "cell_type": "markdown",
   "metadata": {},
   "source": [
    "#### Listing a Sentence\n",
    "- Store a single sentence in a variable. Use a for loop to print each character from your sentence on a separate line."
   ]
  },
  {
   "cell_type": "code",
   "execution_count": 1,
   "metadata": {
    "collapsed": false
   },
   "outputs": [
    {
     "name": "stdout",
     "output_type": "stream",
     "text": [
      "['my', 'name', 'is', 'aayush', 'kubba']\n",
      "my\n",
      "name\n",
      "is\n",
      "aayush\n",
      "kubba\n"
     ]
    }
   ],
   "source": [
    "var=\"my name is aayush kubba\"\n",
    "varlist=var.split(\" \")\n",
    "print(varlist)\n",
    "for i in varlist:\n",
    "    print(i)"
   ]
  },
  {
   "cell_type": "markdown",
   "metadata": {},
   "source": [
    "#### Sentence List\n",
    "- Store a single sentence in a variable. Create a list from your sentence. Print your raw list (don't use a loop, just print the list)."
   ]
  },
  {
   "cell_type": "code",
   "execution_count": 1,
   "metadata": {
    "collapsed": false
   },
   "outputs": [
    {
     "name": "stdout",
     "output_type": "stream",
     "text": [
      "my name is aayush kubba\n",
      "['m', 'y', ' ', 'n', 'a', 'm', 'e', ' ', 'i', 's', ' ', 'a', 'a', 'y', 'u', 's', 'h', ' ', 'k', 'u', 'b', 'b', 'a']\n"
     ]
    }
   ],
   "source": [
    "var=\"my name is aayush kubba\"\n",
    "varlist=list(var)\n",
    "print(var)\n",
    "print(varlist)"
   ]
  },
  {
   "cell_type": "markdown",
   "metadata": {},
   "source": [
    "#### Sentence Slices\n",
    "- Store a sentence in a variable. Using slices, print out the first five characters, any five consecutive characters from the middle of the sentence, and the last five characters of the sentence."
   ]
  },
  {
   "cell_type": "code",
   "execution_count": 86,
   "metadata": {
    "collapsed": false
   },
   "outputs": [
    {
     "name": "stdout",
     "output_type": "stream",
     "text": [
      "my na\n",
      "me is \n",
      "kubba\n"
     ]
    }
   ],
   "source": [
    "var=\"my name is aayush kubba\"\n",
    "print(var[:5])\n",
    "print(var[5:11])\n",
    "print(var[-5:])\n"
   ]
  },
  {
   "cell_type": "markdown",
   "metadata": {},
   "source": [
    "#### Finding Python\n",
    "- Store a sentence in a variable, making sure you use the word *Python* at least twice in the sentence.\n",
    "- Use the *in* keyword to prove that the word *Python* is actually in the sentence.\n",
    "- Use the *find()* function to show where the word *Python* first appears in the sentence.\n",
    "- Use the *rfind()* function to show the last place *Python* appears in the sentence.\n",
    "- Use the *count()* function to show how many times the word *Python* appears in your sentence.\n",
    "- Use the *split()* function to break your sentence into a list of words. Print the raw list, and use a loop to print each word on its own line.\n",
    "- Use the *replace()* function to change *Python* to *Ruby* in your sentence."
   ]
  },
  {
   "cell_type": "code",
   "execution_count": 2,
   "metadata": {
    "collapsed": false
   },
   "outputs": [
    {
     "name": "stdout",
     "output_type": "stream",
     "text": [
      "True\n",
      "8\n",
      "29\n",
      "2\n",
      "['This', 'is', 'python', 'saying,', 'hello', 'python']\n",
      "This\n",
      "is\n",
      "python\n",
      "saying,\n",
      "hello\n",
      "python\n",
      "This is ruby saying, hello ruby\n"
     ]
    }
   ],
   "source": [
    "sent=\"This is python saying, hello python\"\n",
    "print('python' in sent)\n",
    "print(sent.find('python'))\n",
    "print(sent.rfind('python'))\n",
    "print(sent.count('python'))\n",
    "\n",
    "varlist=sent.split(\" \")\n",
    "print(varlist)\n",
    "for i in varlist:\n",
    "    print(i)\n",
    "    \n",
    "print(sent.replace(\"python\",\"ruby\"))    "
   ]
  },
  {
   "cell_type": "code",
   "execution_count": null,
   "metadata": {
    "collapsed": true
   },
   "outputs": [],
   "source": []
  }
 ],
 "metadata": {
  "anaconda-cloud": {},
  "kernelspec": {
   "display_name": "Python 3",
   "language": "python",
   "name": "python3"
  },
  "language_info": {
   "codemirror_mode": {
    "name": "ipython",
    "version": 3
   },
   "file_extension": ".py",
   "mimetype": "text/x-python",
   "name": "python",
   "nbconvert_exporter": "python",
   "pygments_lexer": "ipython3",
   "version": "3.6.0"
  }
 },
 "nbformat": 4,
 "nbformat_minor": 0
}

{
 "cells": [
  {
   "cell_type": "code",
   "execution_count": 4,
   "metadata": {},
   "outputs": [
    {
     "name": "stdout",
     "output_type": "stream",
     "text": [
      "Helo world\n"
     ]
    }
   ],
   "source": [
    "print(\"Hello world\")    #shift + enter"
   ]
  },
  {
   "cell_type": "code",
   "execution_count": 3,
   "metadata": {},
   "outputs": [
    {
     "name": "stdout",
     "output_type": "stream",
     "text": [
      "C:\\ProgramData\\Anaconda3\\python.exe\n",
      "3.8.5 (default, Sep  3 2020, 21:29:08) [MSC v.1916 64 bit (AMD64)]\n"
     ]
    }
   ],
   "source": [
    "import sys\n",
    "print(sys.executable)\n",
    "print(sys.version)\n",
    "#print(sys.version_info)"
   ]
  },
  {
   "cell_type": "markdown",
   "metadata": {},
   "source": [
    "# Python Programming\n",
    "##  Programs from session on 12/9/2021\n",
    "###  Intro to Jupyter Notebook\n",
    "* Use Esc + b to add new cells below\n",
    "* Use Esc + a to add cells above the given cell\n",
    "* SHIFT + ENTER for Executing the CELL using Jupyter noteboook\n",
    "* Ctrl + S save and checkpoint\n"
   ]
  },
  {
   "cell_type": "markdown",
   "metadata": {},
   "source": [
    "### Add text in a Jupyter Notebook\n",
    "\n",
    "* To add remarks which are not treated   as code by Notebook server, convert the cell as a markdown cell.\n",
    "* A markdown cell can display header text of 6 sizes, similar to HTML headers - statements starting with #\n",
    "* You can create an ordered list : Each item in the list will display a solid circle if it starts with – symbol\n",
    "* where as solid square symbol will be displayed if list starts with * symbol. \n",
    "* Markdown text starting with http or https automatically renders hyperlink\n",
    "* __To show a text in bold face, put it in between double underscores or two asterisks.__ \n",
    "* _To show in italics, put it between single underscores or single asterisks._  \n",
    "\n",
    "- esc + m for code to markdown  cell\n",
    "- esc + y for markdown to code"
   ]
  },
  {
   "cell_type": "markdown",
   "metadata": {},
   "source": [
    "* I have learnt markdown\n",
    "- I have learnt markdown\n",
    "* __I have learnt markdown__\n",
    "* _I have learnt markdown_"
   ]
  },
  {
   "cell_type": "code",
   "execution_count": null,
   "metadata": {},
   "outputs": [],
   "source": [
    "# Python is an interpreted high-level general-purpose programming language. \n",
    "#  Python has a simple syntax similar to the English language.\n",
    "# Its design philosophy emphasizes code readability\n",
    "\n",
    "print('Hello World')\n",
    "print(\"This is my first Python Program\")"
   ]
  },
  {
   "cell_type": "code",
   "execution_count": 9,
   "metadata": {},
   "outputs": [
    {
     "name": "stdout",
     "output_type": "stream",
     "text": [
      "10\n"
     ]
    }
   ],
   "source": [
    "a=10\n",
    "#print(A)        # Python is case sensitive\n",
    "print(a)"
   ]
  },
  {
   "cell_type": "code",
   "execution_count": 17,
   "metadata": {},
   "outputs": [
    {
     "name": "stdout",
     "output_type": "stream",
     "text": [
      "10 20\n"
     ]
    }
   ],
   "source": [
    "# Read and print two numbers     -  This statement is not executed\n",
    "\n",
    "a=10\n",
    "b=20\n",
    "print(a,b)"
   ]
  },
  {
   "cell_type": "code",
   "execution_count": 16,
   "metadata": {},
   "outputs": [
    {
     "name": "stdout",
     "output_type": "stream",
     "text": [
      "HelloSangeeta\n"
     ]
    }
   ],
   "source": [
    "# Read your name and print \"Hello name\"\n",
    "\n",
    "name = \"Sangeeta\"\n",
    "#print(\"Hello\", name)\n",
    "print(\"Hello\"+name)"
   ]
  },
  {
   "cell_type": "code",
   "execution_count": 15,
   "metadata": {},
   "outputs": [
    {
     "name": "stdout",
     "output_type": "stream",
     "text": [
      "Enter your nameHarish\n",
      "Hello Harish\n"
     ]
    }
   ],
   "source": [
    "# Read your name from the user and print \"Hello name\"\n",
    "\n",
    "name = input(\"Enter your name\")\n",
    "print(\"Hello\", name)"
   ]
  },
  {
   "cell_type": "code",
   "execution_count": 19,
   "metadata": {},
   "outputs": [
    {
     "name": "stdout",
     "output_type": "stream",
     "text": [
      "Hello World\n",
      "a= 10\n",
      "b= 20\n",
      "a+b =  30\n"
     ]
    }
   ],
   "source": [
    "# Python Comments        # this statement is ignored by the Python Interpreter\n",
    "print(\"Hello World\")     # prints  Hello world\n",
    "a=10\n",
    "b=20\n",
    "print(\"a=\", a)           # Prints the value of a\n",
    "print(\"b=\", b)           # Prints the value of b\n",
    "print(\"a+b = \", a+b)     # adds 2 integers"
   ]
  },
  {
   "cell_type": "code",
   "execution_count": 24,
   "metadata": {},
   "outputs": [
    {
     "name": "stdout",
     "output_type": "stream",
     "text": [
      "Enter an integer10\n",
      "Enter an Integer25\n",
      "c+d = 35\n",
      "Enter an integer55\n",
      "<class 'str'>\n"
     ]
    }
   ],
   "source": [
    "# Exercise 1:\n",
    "# Read two integers from the user  and display their sum\n",
    "\n",
    "c = int(input(\"Enter an integer\"))\n",
    "d = int(input(\"Enter an Integer\"))\n",
    "print(\"c+d =\",  c+d)\n",
    "\n",
    "f = input(\"Enter an integer\")      # f is read as a string\n",
    "print(type(f))"
   ]
  },
  {
   "cell_type": "code",
   "execution_count": 22,
   "metadata": {},
   "outputs": [
    {
     "name": "stdout",
     "output_type": "stream",
     "text": [
      "25 25 25\n"
     ]
    }
   ],
   "source": [
    "#  How to do multiple assignments\n",
    "c=d=e=25\n",
    "print(c,d,e)"
   ]
  },
  {
   "cell_type": "markdown",
   "metadata": {},
   "source": [
    "## Exercise 12/9/2021\n",
    "*  Read 2 names and Print \"Name1 is a friend of Name 2\"\n",
    "*  Read a day(say Sunday)  and print \"Today is Sunday\"\n",
    "*  Read two numbers a and b (a>b):  and Print \"a is greater than b\"\n",
    "*  Read 2 numbers and print their sum\n",
    "*  Print the pattern\n",
    "   &&&&& \n",
    "   &&&&&\n",
    "   &&&&&"
   ]
  },
  {
   "cell_type": "code",
   "execution_count": 34,
   "metadata": {},
   "outputs": [
    {
     "name": "stdout",
     "output_type": "stream",
     "text": [
      "10 is greater than 5\n",
      "Addition: 15\n"
     ]
    }
   ],
   "source": [
    "a = 10\n",
    "b =5\n",
    "print(a, \"is greater than\" , b)\n",
    "print(\"Addition:\", a+b)"
   ]
  },
  {
   "cell_type": "code",
   "execution_count": 35,
   "metadata": {},
   "outputs": [
    {
     "name": "stdout",
     "output_type": "stream",
     "text": [
      "&&&&&\n",
      "&&&&&\n",
      "&&&&&\n"
     ]
    }
   ],
   "source": [
    "p = \"&&&&&\"\n",
    "print(p)\n",
    "print(p)\n",
    "print(p)\n"
   ]
  },
  {
   "cell_type": "code",
   "execution_count": 44,
   "metadata": {},
   "outputs": [
    {
     "name": "stdout",
     "output_type": "stream",
     "text": [
      "&&&&&\n",
      "&&&&&\n",
      "&&&&&\n"
     ]
    }
   ],
   "source": [
    "print(\"&&&&&\\n&&&&&\\n&&&&&\")"
   ]
  },
  {
   "cell_type": "code",
   "execution_count": 38,
   "metadata": {},
   "outputs": [
    {
     "name": "stdout",
     "output_type": "stream",
     "text": [
      "&&&&&\t&&&&&\t&&&&&\n"
     ]
    }
   ],
   "source": [
    "print(\"&&&&&\\t&&&&&\\t&&&&&\")"
   ]
  },
  {
   "cell_type": "code",
   "execution_count": null,
   "metadata": {},
   "outputs": [],
   "source": [
    "# Session 18/9/2021"
   ]
  },
  {
   "cell_type": "markdown",
   "metadata": {},
   "source": [
    "## Lexical Structure\n",
    "\n",
    "The lexical structure of a programming language is the set of basic rules that govern how you write programs in that language.\n",
    "\n",
    "It is the lowest-level syntax of the language and specifies such things as what variable names look like and which characters denote comments.\n",
    "\n",
    "Each Python source file, like any other text file, is a sequence of characters.\n",
    "\n",
    "Tokens are combined to make a statement\n",
    "\n",
    "__You can also usefully consider it as a sequence of lines, tokens, or statements.__\n",
    "\n",
    "Python is very particular about program layout,especially with regard to lines and indentation, so you’ll want to pay attention to this information if you are coming to Python from another language."
   ]
  },
  {
   "cell_type": "markdown",
   "metadata": {},
   "source": [
    "## Lines and Indentation"
   ]
  },
  {
   "cell_type": "markdown",
   "metadata": {},
   "source": [
    "### Lines\n",
    "\n",
    "* A Python program is composed of a sequence of logical lines. A logical line is what Python sees as a single statement.\n",
    "* A physical line is what you see when you write the program.\n",
    "* Python implicitly assumes that each physical line corresponds to a logical line.\n",
    "* Python automatically joins adjacent physical lines into one logical line\n",
    "* Triple-quoted string literals can also span physical lines"
   ]
  },
  {
   "cell_type": "code",
   "execution_count": null,
   "metadata": {},
   "outputs": [],
   "source": [
    "# A Python program is composed of a sequence of logical lines\n",
    "#Examples of logical lines\n",
    "\n",
    "# Python Comments        # this statement is ignored by the Python Interpreter\n",
    "print(\"Hello World\")     # prints  Hello world\n",
    "a=10\n",
    "b=20\n",
    "print(\"a+b = \", a+b)     # adds 2 integers\n",
    "\n",
    "\n",
    "# Logical line is same as physical line in these examples"
   ]
  },
  {
   "cell_type": "code",
   "execution_count": 48,
   "metadata": {},
   "outputs": [
    {
     "name": "stdout",
     "output_type": "stream",
     "text": [
      "Jack and jill went up the hill to fetch a pale of water.\n",
      "This is a string.             This continues the string.\n"
     ]
    }
   ],
   "source": [
    "# Difference between a physical and logical line\n",
    "# A physical line is what you see when you write the program. \n",
    "\n",
    "# Examples of 2 physical line but one logical line (\\) is the concatenation character\n",
    "s1 = \"Jack and jill went up the hill \\\n",
    "to fetch a pale of water.\"\n",
    "print(s1)\n",
    "\n",
    "s2 = 'This is a string.      \\\n",
    "       This continues the string.'\n",
    "print(s2)\n",
    "\n",
    "# Use more than one physical line for a single logical line only if the logical line is really long. \n",
    "# Python automatically joins adjacent physical lines joined by(\\) into one logical line"
   ]
  },
  {
   "cell_type": "code",
   "execution_count": 42,
   "metadata": {},
   "outputs": [
    {
     "name": "stdout",
     "output_type": "stream",
     "text": [
      "Comments are useful information that the developers provide to make the reader understand the source code.\n",
      "It explains the logic or a part of it used in the code. Multiline comments are useful when the comment text does not fit into one line; therefore needs to span across lines. \n",
      "Multi-line comments or paragraphs serve as documentation for others reading your code. \n",
      "No blank spaces between the quotes\n"
     ]
    }
   ],
   "source": [
    "# A Single line comment and a Multiline comment or string\n",
    "# also example of multiline string\n",
    "# In Python '. \", \"\"\"  all are allowed for strings but \"\"\" is used only for Multiline comments\n",
    "\n",
    "# Multiline Comments also called as doscstring\n",
    "\"\"\"Comments are useful information that the developers provide to make the reader understand the source code.\n",
    "It explains the logic or a part of it used in the code. Multiline comments are useful when the comment text does not fit into one line; therefore needs to span across lines. \n",
    "Multi-line comments or paragraphs serve as documentation for others reading your code. \n",
    "No blank spaces between the quotes\"\"\"\n",
    "\n",
    "print(s1)\n",
    "\n",
    "#Observe if you break line in between"
   ]
  },
  {
   "cell_type": "code",
   "execution_count": 29,
   "metadata": {},
   "outputs": [
    {
     "name": "stdout",
     "output_type": "stream",
     "text": [
      "45\n"
     ]
    }
   ],
   "source": [
    "# Multiline Statements\n",
    "# Difference between multiline string and a multiline statement\n",
    "# Declared using Continuation Character (\\):\n",
    "s1 = 1 + 2 + 3 + \\\n",
    "    4 + 5 + 6 + \\\n",
    "    7 + 8 + 9\n",
    "print(s1)\n",
    "\n",
    "# here we have 3 physical lines but only one logical add statement"
   ]
  },
  {
   "cell_type": "code",
   "execution_count": 50,
   "metadata": {},
   "outputs": [
    {
     "name": "stdout",
     "output_type": "stream",
     "text": [
      "30\n",
      "['MESSI', 'NEYMAR', 'SUAREZ']\n",
      "{45}\n",
      "2 3 4\n"
     ]
    }
   ],
   "source": [
    "# Python automatically joins adjacent physical lines into one logical line using \\\n",
    "# if an open parenthesis ((), bracket ([), or brace ({) has not yet been closed\n",
    "# While continuing expressions inside these brackets (\\) character is not used\n",
    "\n",
    "# Declared using parentheses () :\n",
    "s2= (1 * 2 * 3 + 7 + 8 + 9)\n",
    "print(s2)\n",
    "\n",
    "#Declared using square brackets [] :\n",
    "names = ['MESSI', \n",
    "          'NEYMAR',\n",
    "          'SUAREZ']\n",
    "print(names)\n",
    "\n",
    "# Declared using braces {} \n",
    "s4 = {1 + 2 + 3 + 4 + 5 + 6 + \n",
    "     7 + 8 + 9}\n",
    "print(s4)\n",
    "\n",
    "#Declared using semicolons(;) :\n",
    "flag = 2; ropes = 3; pole = 4   # Multiple assignments\n",
    "print(flag, ropes, pole)\n",
    "\n",
    "# Why sometimes we wouldnt like the answer with brackets"
   ]
  },
  {
   "cell_type": "markdown",
   "metadata": {},
   "source": [
    "* When we have to type multiple physical lines we can use '\\'  or we can use brackets"
   ]
  },
  {
   "cell_type": "markdown",
   "metadata": {},
   "source": [
    "Use this mechanism ({), t produce more readable code instead of explicitly inserting backslashes at physical line ends."
   ]
  },
  {
   "cell_type": "markdown",
   "metadata": {},
   "source": [
    "###  Indentation\n",
    "* Indentation refers to the spaces at the beginning of a code line.\n",
    "\n",
    "* The indentation issues covered next do not apply to continuation lines but only to the first physical line of each logical line.\n",
    "\n",
    "* Python uses indentation to indicate a block of code. Unlike other languages, Python does not use braces, or other begin/end delimiters, around blocks of statements; indentation is the only way to denote such blocks.\n",
    "\n",
    "* A block is a contiguous sequence of logical lines, all indented by the same amount; a logical line with less indentation ends the block. \n",
    "\n",
    "* All statements in a block must have the same indentation, as must all clauses in a compound statement.\n",
    "\n",
    "* The first statement in a source file must have no indentation (i.e., must not begin with any whitespace).\n"
   ]
  },
  {
   "cell_type": "code",
   "execution_count": 51,
   "metadata": {},
   "outputs": [
    {
     "ename": "IndentationError",
     "evalue": "expected an indented block (<ipython-input-51-850e7937a12a>, line 4)",
     "output_type": "error",
     "traceback": [
      "\u001b[1;36m  File \u001b[1;32m\"<ipython-input-51-850e7937a12a>\"\u001b[1;36m, line \u001b[1;32m4\u001b[0m\n\u001b[1;33m    {\u001b[0m\n\u001b[1;37m    ^\u001b[0m\n\u001b[1;31mIndentationError\u001b[0m\u001b[1;31m:\u001b[0m expected an indented block\n"
     ]
    }
   ],
   "source": [
    "# Blocks and clauses of a compound statemnet  defined in  other languages\n",
    "n = 10\n",
    "if n>5:\n",
    "{\n",
    "print(\"The if part\")\n",
    "print(\"n is greater than 5\")\n",
    "}\n",
    "else:\n",
    "{\n",
    "print(\"the else part\")\n",
    "print(\"n is not greater than 5\")\n",
    "}"
   ]
  },
  {
   "cell_type": "code",
   "execution_count": 55,
   "metadata": {},
   "outputs": [
    {
     "ename": "SyntaxError",
     "evalue": "invalid syntax (<ipython-input-55-3e00d9d9c7ff>, line 10)",
     "output_type": "error",
     "traceback": [
      "\u001b[1;36m  File \u001b[1;32m\"<ipython-input-55-3e00d9d9c7ff>\"\u001b[1;36m, line \u001b[1;32m10\u001b[0m\n\u001b[1;33m    else=10\u001b[0m\n\u001b[1;37m    ^\u001b[0m\n\u001b[1;31mSyntaxError\u001b[0m\u001b[1;31m:\u001b[0m invalid syntax\n"
     ]
    }
   ],
   "source": [
    "# Blocks and clauses of a compound statemnet  defined in  Python\n",
    "n = 10    #Do not indent the first line in  the code\n",
    "if n>5:\n",
    "    print(\"The if part\")\n",
    "    print(\"n is greater than 5\")\n",
    "else:\n",
    "    print(\"the else part\")\n",
    "    print(\"n is not greater than 5\")\n",
    "    "
   ]
  },
  {
   "cell_type": "markdown",
   "metadata": {},
   "source": [
    "### Tokens\n",
    "* Python breaks each logical line into a sequence of elementary lexical components known as tokens.Each token corresponds to a substring of the logical line.\n",
    "\n",
    "* __The normal token types are identifiers, keywords, operators, delimiters, and literals, as covered in the following sections.__\n",
    "\n",
    "* You may freely use whitespace between tokens to separate them. Some whitespace separation is necessary between logically adjacent identifiers or keywords; otherwise, Python would parse them as a single, longer identifier.\n",
    "\n",
    "* For example, \"if\" is a keyword we need a whitespace to separate form \"n>5\" in example above"
   ]
  },
  {
   "attachments": {
    "image.png": {
     "image/png": "[encoded data removed]"
    }
   },
   "cell_type": "markdown",
   "metadata": {},
   "source": [
    "## Keywords\n",
    "\n",
    "Keywords are the reserved words in Python, whihc have a predefined meaning\n",
    "\n",
    "We cannot use a keyword as a variable name, function name or any other identifier. They are used to define the syntax and structure of the Python language.\n",
    "\n",
    "In Python, keywords are case sensitive.\n",
    "\n",
    "There are 33 keywords in Python 3.7. This number can vary slightly over the course of time.\n",
    "\n",
    "All the keywords except True, False and None are in lowercase and they must be written as they are. \n",
    "\n",
    "The list of all the keywords is given below.\n",
    "\n",
    "\n",
    "![image.png](attachment:image.png)\n",
    "\n",
    "![image.png](attachment:image.png)\n"
   ]
  },
  {
   "cell_type": "code",
   "execution_count": 33,
   "metadata": {},
   "outputs": [
    {
     "name": "stdout",
     "output_type": "stream",
     "text": [
      "['False', 'None', 'True', 'and', 'as', 'assert', 'async', 'await', 'break', 'class', 'continue', 'def', 'del', 'elif', 'else', 'except', 'finally', 'for', 'from', 'global', 'if', 'import', 'in', 'is', 'lambda', 'nonlocal', 'not', 'or', 'pass', 'raise', 'return', 'try', 'while', 'with', 'yield']\n"
     ]
    }
   ],
   "source": [
    "import keyword\n",
    "print(keyword.kwlist)"
   ]
  },
  {
   "cell_type": "markdown",
   "metadata": {},
   "source": [
    "#### Identifiers\n",
    "* An identifier is a name used to identify a variable, function, class, module, or other object. An identifier starts with a letter (A to Z or a to z) or an underscore (_) followed by zero or more letters, underscores, and digits (0 to 9).\n",
    "\n",
    "* Case is significant in Python: lowercase and uppercase letters are distinct. Python does not allow punctuation characters such as @, $, and % within identifiers.\n",
    "\n",
    "* Normal Python style is to start class names with an uppercase letter and all other identifiers with a lowercase letter.\n",
    "\n",
    "* __Starting an identifier with a single leading underscore indicates by convention that the identifier is meant to be private__\n",
    "\n",
    "* __Starting an identifier with two leading underscores indicates a strongly private identifier; if the identifier also ends with two trailing underscores, the identifier is a language-defined special name.__\n"
   ]
  },
  {
   "cell_type": "code",
   "execution_count": 57,
   "metadata": {},
   "outputs": [
    {
     "name": "stdout",
     "output_type": "stream",
     "text": [
      "harish 2456 Rajesh\n"
     ]
    }
   ],
   "source": [
    "# Examples of identifiers \n",
    "name = \"harish\"\n",
    "rollno = 2456\n",
    "NAME = \"Rajesh\"\n",
    "print(name, rollno, NAME)"
   ]
  },
  {
   "cell_type": "code",
   "execution_count": null,
   "metadata": {},
   "outputs": [],
   "source": [
    "examples continue take from other filedo identifier, literal then operators"
   ]
  },
  {
   "cell_type": "code",
   "execution_count": 59,
   "metadata": {
    "scrolled": true
   },
   "outputs": [
    {
     "name": "stdout",
     "output_type": "stream",
     "text": [
      "15\n"
     ]
    }
   ],
   "source": [
    "a = 15 \n",
    "#print(A)      #case is significant\n",
    "print(a)"
   ]
  },
  {
   "cell_type": "code",
   "execution_count": 60,
   "metadata": {},
   "outputs": [
    {
     "name": "stdout",
     "output_type": "stream",
     "text": [
      "25\n"
     ]
    }
   ],
   "source": [
    "a1=25    # alphanumeric identifier\n",
    "print(a1)"
   ]
  },
  {
   "cell_type": "code",
   "execution_count": 61,
   "metadata": {},
   "outputs": [
    {
     "name": "stdout",
     "output_type": "stream",
     "text": [
      "65\n"
     ]
    }
   ],
   "source": [
    "a_12= 65   #alphanumeric and underscore\n",
    "print(a_12)"
   ]
  },
  {
   "cell_type": "code",
   "execution_count": 62,
   "metadata": {},
   "outputs": [
    {
     "ename": "SyntaxError",
     "evalue": "invalid syntax (<ipython-input-62-fdd1b8343fc9>, line 1)",
     "output_type": "error",
     "traceback": [
      "\u001b[1;36m  File \u001b[1;32m\"<ipython-input-62-fdd1b8343fc9>\"\u001b[1;36m, line \u001b[1;32m1\u001b[0m\n\u001b[1;33m    1df= 108\u001b[0m\n\u001b[1;37m     ^\u001b[0m\n\u001b[1;31mSyntaxError\u001b[0m\u001b[1;31m:\u001b[0m invalid syntax\n"
     ]
    }
   ],
   "source": [
    "1df= 108\n",
    "print(1df)    # do not start an identifier name with a digit"
   ]
  },
  {
   "cell_type": "code",
   "execution_count": 63,
   "metadata": {},
   "outputs": [
    {
     "name": "stdout",
     "output_type": "stream",
     "text": [
      "567\n"
     ]
    }
   ],
   "source": [
    "_ab= 567     # this is used when the identifier is private \n",
    "print(_ab)   # avoid using it"
   ]
  },
  {
   "cell_type": "code",
   "execution_count": 64,
   "metadata": {},
   "outputs": [
    {
     "name": "stdout",
     "output_type": "stream",
     "text": [
      "hello\n"
     ]
    }
   ],
   "source": [
    "A2gg= \"hello\"\n",
    "print(A2gg)"
   ]
  },
  {
   "cell_type": "code",
   "execution_count": 65,
   "metadata": {},
   "outputs": [
    {
     "ename": "SyntaxError",
     "evalue": "invalid syntax (<ipython-input-65-aa3ce75b9224>, line 1)",
     "output_type": "error",
     "traceback": [
      "\u001b[1;36m  File \u001b[1;32m\"<ipython-input-65-aa3ce75b9224>\"\u001b[1;36m, line \u001b[1;32m1\u001b[0m\n\u001b[1;33m    a$^b= 789\u001b[0m\n\u001b[1;37m     ^\u001b[0m\n\u001b[1;31mSyntaxError\u001b[0m\u001b[1;31m:\u001b[0m invalid syntax\n"
     ]
    }
   ],
   "source": [
    "a$^.b= 789   #do not use any special character other than _underscore\n",
    "print(a$^b)\n",
    "# gh.st    Not allowed"
   ]
  },
  {
   "cell_type": "code",
   "execution_count": 67,
   "metadata": {},
   "outputs": [
    {
     "name": "stdout",
     "output_type": "stream",
     "text": [
      "Harish\n"
     ]
    }
   ],
   "source": [
    "# student name with a blank space not allowed\n",
    "student_name = \"Harish\"\n",
    "print(student_name)"
   ]
  },
  {
   "cell_type": "markdown",
   "metadata": {},
   "source": [
    "#### Variable\n",
    "* Variables are nothing but reserved memory locations to store values.\n",
    "* Python variables do not need explicit declaration to reserve memory space.\n",
    "* The declaration happens automatically when a value is assigned to a variable\n",
    "* The type of the variable can be changed anytime\n",
    "* Rules for naming Variable are the same as any other identifier\n",
    "\n",
    "int i =10\n",
    "*  variable declartion in C or C++ which says that i is an integer int i;  \n",
    "* Variable assignement in C or C+= i=10\n",
    "\n",
    "float fg = 12.5\n",
    "* In C, C ++ this is a varaible declaration to store float\n",
    "* In Python  fg = 12.5\n",
    "\n",
    "* In Python no declaration is needed it is dynamically typed  i=10"
   ]
  },
  {
   "cell_type": "code",
   "execution_count": 73,
   "metadata": {},
   "outputs": [
    {
     "name": "stdout",
     "output_type": "stream",
     "text": [
      "Delhi\n",
      "100 1000.25 John Delhi\n",
      "count= 100\n",
      "dist = 1000.25\n",
      "z= Delhi\n"
     ]
    }
   ],
   "source": [
    "# A variable can store different types of data\n",
    "# Python understand the type of the variable by the value it is assigned\n",
    "count = 100      #Integer Assignment\n",
    "dist = 1000.25    #Float Assignment\n",
    "name = \"John\"     #String assignment\n",
    "z = 4             # z is of type int\n",
    "z = \"Delhi\"       # z is now of type str\n",
    "print(z)\n",
    "print(count, dist, name, z)\n",
    "\n",
    "print(\"count=\", count)\n",
    "print(\"dist =\", dist)\n",
    "print(\"z=\", z)\n",
    "\n",
    "# count is a variable which stores an integer\n",
    "# dist is a variable which stores a float/decimal\n",
    "# name is a varible which stores a string"
   ]
  },
  {
   "cell_type": "markdown",
   "metadata": {},
   "source": [
    "i=1\n",
    "print(i)\n",
    "i=i+0.25\n",
    "print(i)"
   ]
  },
  {
   "cell_type": "markdown",
   "metadata": {},
   "source": [
    "* What is data type ? A datatype tells how a variable will be stored and how much memory it will take\n",
    "* If you want to specify the type of the variable it can be done with type  casting"
   ]
  },
  {
   "cell_type": "code",
   "execution_count": 78,
   "metadata": {},
   "outputs": [
    {
     "name": "stdout",
     "output_type": "stream",
     "text": [
      "202 30 3\n",
      "<class 'str'> <class 'int'> <class 'int'>\n"
     ]
    }
   ],
   "source": [
    "# examples of typecasting\n",
    "x = str(20)    # x will be '20'\n",
    "y = int(30)    # y will be 30\n",
    "z = float(3)   # z will be 3.0\n",
    "z=3\n",
    "# how do we know that 20 is a string\n",
    "x= x +'2'\n",
    "print(x,y,z)\n",
    "print(type(x), type(y), type(z))"
   ]
  },
  {
   "cell_type": "markdown",
   "metadata": {},
   "source": [
    "#### Literals\n",
    "A literal is a number or string which are constants, that appears directly in a program.\n",
    "\n",
    "The following are all literals in Python:\n",
    "    \n",
    "- Integer literal 42\n",
    "- Floating-point literal 3.14                       \n",
    "- Imaginary literal 1.0j                       \n",
    "- String literal  'hello'                    \n",
    "- Another string literal \"world\"                   \n",
    "- Triple-quoted string literal \"\"\"Good night\"\"\"           "
   ]
  },
  {
   "cell_type": "markdown",
   "metadata": {},
   "source": [
    "## Scalar Data Types and Operations\n",
    "\n",
    "Python has four scalar data types  or numeric data types:\n",
    "\n",
    "- Integer\n",
    "- Float\n",
    "- Boolean\n",
    "- Complex\n",
    "\n",
    "We will review these in this notebook"
   ]
  },
  {
   "cell_type": "code",
   "execution_count": null,
   "metadata": {},
   "outputs": [],
   "source": [
    "* The usual arithmetic operators are available: + for addition, - for subtraction and * for multiplication.\n",
    "* There are two division operators: / for everyday (float) division and // for truncating (integer) division\n",
    "* The modulo operator % and the exponentiation operator ** are also available."
   ]
  },
  {
   "cell_type": "code",
   "execution_count": 79,
   "metadata": {},
   "outputs": [
    {
     "name": "stdout",
     "output_type": "stream",
     "text": [
      "<class 'int'>\n"
     ]
    }
   ],
   "source": [
    "# Integer data type\n",
    "a=2\n",
    "print(type(a))"
   ]
  },
  {
   "cell_type": "code",
   "execution_count": 80,
   "metadata": {},
   "outputs": [
    {
     "name": "stdout",
     "output_type": "stream",
     "text": [
      "6\n",
      "12879\n",
      "4\n",
      "-1\n",
      "48\n",
      "204\n"
     ]
    }
   ],
   "source": [
    "#Operations on Integers\n",
    "print(2 + 4)      # addition\n",
    "print(12878 + 1)\n",
    "print(7 - 3)       #Subtraction\n",
    "print(127 - 128)\n",
    "print(8 * 6)        #  Multiplication\n",
    "print(17 * 12)"
   ]
  },
  {
   "cell_type": "code",
   "execution_count": 83,
   "metadata": {},
   "outputs": [
    {
     "name": "stdout",
     "output_type": "stream",
     "text": [
      "4.0\n",
      "4.75\n",
      "4\n"
     ]
    }
   ],
   "source": [
    "# There are two division operators: / for everyday (float) division\n",
    "# and // for truncating (integer) division\n",
    "print(40/10)\n",
    "print(19/4)      # Division\n",
    "print(19//4)     # truncated integer division"
   ]
  },
  {
   "cell_type": "code",
   "execution_count": 84,
   "metadata": {},
   "outputs": [
    {
     "name": "stdout",
     "output_type": "stream",
     "text": [
      "Quotient of 40/6 = 6\n",
      "Remainder of 40/6=  4\n",
      "2\n"
     ]
    }
   ],
   "source": [
    "# The modulo operator %   Remainder from division\n",
    "#40/6   quotient = 6, remainder is 4\n",
    "print(\"Quotient of 40/6 =\",  40//6)\n",
    "print(\"Remainder of 40/6= \", 40%6)\n",
    "print(72 % 5)  "
   ]
  },
  {
   "cell_type": "code",
   "execution_count": 86,
   "metadata": {},
   "outputs": [
    {
     "name": "stdout",
     "output_type": "stream",
     "text": [
      "32\n",
      "81\n"
     ]
    }
   ],
   "source": [
    "#  the exponentiation operator **   #power 2 raised to 4\n",
    "print(2**5)\n",
    "print(3**4)"
   ]
  },
  {
   "cell_type": "code",
   "execution_count": 92,
   "metadata": {},
   "outputs": [
    {
     "name": "stdout",
     "output_type": "stream",
     "text": [
      "17\n",
      "1021\n",
      "128\n"
     ]
    }
   ],
   "source": [
    "# Operator precedence\n",
    "print((2 ** 2) * 5 - 3)   # understand if you dont give brackets how Python onterprets it\n",
    "print(2 ** (2 * 5) - 3)\n",
    "print(2 ** (2 * 5 - 3))"
   ]
  },
  {
   "cell_type": "markdown",
   "metadata": {},
   "source": [
    "* ![image.png](attachment:image.png)\n"
   ]
  },
  {
   "cell_type": "code",
   "execution_count": null,
   "metadata": {},
   "outputs": [],
   "source": [
    "# Use exponentiation with care\n",
    "a = 123456789\n",
    "print(a)\n",
    "b = a ** 3   # a^3\n",
    "print(b)\n",
    "c = b ** 3\n",
    "print(c)\n",
    "d = c ** 4    #c^4\n",
    "e = d ** 5\n",
    "print(e)"
   ]
  },
  {
   "cell_type": "markdown",
   "metadata": {},
   "source": [
    "#### Boolean\n",
    "The two constants True and False are defined.\n",
    "\n",
    "The usual Comparison  operators are : ==, !=, >, >=, <, <= . The result of these operations is a Boolean type"
   ]
  },
  {
   "cell_type": "code",
   "execution_count": 99,
   "metadata": {},
   "outputs": [
    {
     "data": {
      "text/plain": [
       "bool"
      ]
     },
     "execution_count": 99,
     "metadata": {},
     "output_type": "execute_result"
    }
   ],
   "source": [
    "# Boolean\n",
    "b  = True\n",
    "type(b)"
   ]
  },
  {
   "cell_type": "code",
   "execution_count": 100,
   "metadata": {},
   "outputs": [
    {
     "name": "stdout",
     "output_type": "stream",
     "text": [
      "True False True True False\n",
      "<class 'bool'>\n"
     ]
    }
   ],
   "source": [
    "a = 12    # a single = is assignment operator\n",
    "b = 13\n",
    "print(a == b - 1, a == b, a != b, a < b, a >= b)\n",
    "print(type(a==b))"
   ]
  },
  {
   "cell_type": "markdown",
   "metadata": {},
   "source": [
    "### Float\n",
    "Python has a float datatype (and it is the same as C's double!) and the above operations are available"
   ]
  },
  {
   "cell_type": "code",
   "execution_count": null,
   "metadata": {},
   "outputs": [],
   "source": [
    "a = 12.5\n",
    "print(type(a))"
   ]
  },
  {
   "cell_type": "code",
   "execution_count": 102,
   "metadata": {},
   "outputs": [
    {
     "name": "stdout",
     "output_type": "stream",
     "text": [
      "12.9\t3.6\t16.5\t9.3\t46.440000000000005\t3.5833333333333335\n",
      "12.9 3.6 16.5 9.3 46.440000000000005 3.5833333333333335\n"
     ]
    }
   ],
   "source": [
    "a = 12.9\n",
    "b = 3.6\n",
    "c = a + b # Addition\n",
    "d = a - b\n",
    "e = a * b #Watch out for the round off error!\n",
    "f = a / b\n",
    "print(a, b, c, d, e, f, sep=\"\\t\")  # with comma separator is a blank space by default\n",
    "print(a, b, c, d, e, f)    # specify a separator uding sep parameter"
   ]
  },
  {
   "cell_type": "markdown",
   "metadata": {},
   "source": [
    "## Complex\n",
    "Complex numbers are built-in"
   ]
  },
  {
   "cell_type": "code",
   "execution_count": null,
   "metadata": {},
   "outputs": [],
   "source": [
    "z=6+7j\n",
    "print(type(z))"
   ]
  },
  {
   "cell_type": "code",
   "execution_count": null,
   "metadata": {},
   "outputs": [],
   "source": [
    "z = 3 - 4j\n",
    "print(z, z.real, z.imag, abs(z), sep=\"\\n\")     #use of \"\\n\""
   ]
  },
  {
   "cell_type": "code",
   "execution_count": null,
   "metadata": {},
   "outputs": [],
   "source": [
    "x = 5 + 12j\n",
    "print(z + x, z - x, z * x, x / z, sep=\"\\n\")"
   ]
  },
  {
   "cell_type": "markdown",
   "metadata": {},
   "source": [
    "## Type Conversion: \n",
    "Convert one data type to another"
   ]
  },
  {
   "cell_type": "code",
   "execution_count": null,
   "metadata": {},
   "outputs": [],
   "source": [
    "#convert from one type to another with the int(), float(), and complex():\n",
    "x = 1    # int\n",
    "y = 2.85  # float\n",
    "z = 2j   # complex\n",
    "\n",
    "a = float(x)     #convert from int to float:\n",
    "b = int(y)       #convert from float to int:\n",
    "c = complex(x)   #convert from int  to complex\n",
    "\n",
    "print(a,b,c)"
   ]
  },
  {
   "cell_type": "code",
   "execution_count": null,
   "metadata": {},
   "outputs": [],
   "source": [
    "#Simple Outputs\n",
    "print('Hello', person, '!')    # each field printed separated by a space\n",
    "print('Hello'+ person+ '!')    #‘+’ operation on strings adds no extra space. \n",
    "print('Hello ', person, '!', sep=' &')  # use specific separator"
   ]
  },
  {
   "cell_type": "code",
   "execution_count": null,
   "metadata": {},
   "outputs": [],
   "source": [
    "#The print statement, paired with the string format operator ( %), behaves even more like C's printf() function:\n",
    "print(\"%s is number %d!\" % (\"Python\", 1))"
   ]
  },
  {
   "cell_type": "code",
   "execution_count": null,
   "metadata": {},
   "outputs": [],
   "source": [
    "## Exercise\n",
    "* Write a program, add3.py, that reads three numbers, and prints their sum, in similar format to the example above.\n",
    "* Write a program, quotient.py, that prompts the user for two integers, and then prints them out in a sentence with an integer division problem like \"The quotient of 14 and 3 is 4 with a remainder of 2\"\n",
    "* Read two numbers a and b. print a**b in a nice format"
   ]
  },
  {
   "cell_type": "markdown",
   "metadata": {},
   "source": [
    "## Operators\n",
    "\n",
    "Python divides the operators in the following groups:\n",
    "    \n",
    "- Arithmetic operators  \n",
    "- Assignment operators \n",
    "- Comparison operators   \n",
    "- Logical operators  \n",
    "- Identity operators   \n",
    "- Membership operators    \n",
    "- Bitwise operators   "
   ]
  }
 ],
 "metadata": {
  "kernelspec": {
   "display_name": "Python 3",
   "language": "python",
   "name": "python3"
  },
  "language_info": {
   "codemirror_mode": {
    "name": "ipython",
    "version": 3
   },
   "file_extension": ".py",
   "mimetype": "text/x-python",
   "name": "python",
   "nbconvert_exporter": "python",
   "pygments_lexer": "ipython3",
   "version": "3.8.8"
  }
 },
 "nbformat": 4,
 "nbformat_minor": 4
}

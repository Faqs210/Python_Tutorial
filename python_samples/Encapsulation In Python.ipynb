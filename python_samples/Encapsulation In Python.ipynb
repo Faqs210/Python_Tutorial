{
 "cells": [
  {
   "cell_type": "markdown",
   "metadata": {
    "id": "iylr1AZv-VZj"
   },
   "source": [
    "### Encapsulation in Python\n",
    "Encapsulation is one of the fundamental concepts in object-oriented programming (OOP). It describes the idea of wrapping data and the methods that work on data within one unit. This puts restrictions on accessing variables and methods directly and can prevent the accidental modification of data. To prevent accidental change, an object’s variable can only be changed by an object’s method. Those type of variables are known as private variable."
   ]
  },
  {
   "cell_type": "markdown",
   "metadata": {
    "id": "oGp_xwH7-VZk"
   },
   "source": [
    "A class is an example of encapsulation as it encapsulates all the data that is member functions, variables, etc."
   ]
  },
  {
   "cell_type": "code",
   "execution_count": null,
   "metadata": {
    "id": "Sghod1jO-VZl",
    "outputId": "31a35c4c-bb31-47ef-c637-794ab20d80e1"
   },
   "outputs": [
    {
     "name": "stdout",
     "output_type": "stream",
     "text": [
      "200\n",
      "Red\n"
     ]
    }
   ],
   "source": [
    "class Car:\n",
    "    def __init__(self,speed,color):\n",
    "        self.speed = speed\n",
    "        self.color = color\n",
    "        \n",
    "ford = Car(200, 'Red')\n",
    "Chev = Car(180,'Blue')\n",
    "Audi = Car (190,\"Black\")\n",
    "\n",
    "print(ford.speed)\n",
    "print(ford.color)  "
   ]
  },
  {
   "cell_type": "code",
   "execution_count": null,
   "metadata": {
    "id": "WGnkBswt-VZm",
    "outputId": "cad9af8c-9d7b-44d5-c014-a332b34c4e84"
   },
   "outputs": [
    {
     "name": "stdout",
     "output_type": "stream",
     "text": [
      "300\n",
      "Red\n"
     ]
    }
   ],
   "source": [
    "# If you want to change the speed\n",
    "\n",
    "class Car:\n",
    "    def __init__(self,speed,color):\n",
    "        self.speed = speed\n",
    "        self.color = color\n",
    "\n",
    "ford = Car(200, 'Red')\n",
    "Chev = Car(180,'Blue')\n",
    "Audi = Car (190,\"Black\")\n",
    "\n",
    "ford.speed = 300\n",
    "\n",
    "print(ford.speed)\n",
    "print(ford.color)\n"
   ]
  },
  {
   "cell_type": "code",
   "execution_count": null,
   "metadata": {
    "id": "Lzar9MBo-VZn",
    "outputId": "4698dc3c-bf98-4811-80f9-59dc8fdd1fc5"
   },
   "outputs": [
    {
     "name": "stdout",
     "output_type": "stream",
     "text": [
      "sakakak\n",
      "Red\n"
     ]
    }
   ],
   "source": [
    "# Let me give some non mumeric value to change the speed\n",
    "\n",
    "class Car:\n",
    "    def __init__(self,speed,color):\n",
    "        self.speed = speed\n",
    "        self.color = color\n",
    "\n",
    "ford = Car(200, 'Red')\n",
    "Chev = Car(180,'Blue')\n",
    "Audi = Car (190,\"Black\")\n",
    "\n",
    "ford.speed = \"sakakak\"\n",
    "\n",
    "print(ford.speed)\n",
    "print(ford.color)"
   ]
  },
  {
   "cell_type": "markdown",
   "metadata": {
    "id": "zVbkThvV-VZn"
   },
   "source": [
    "#### Did that really make any sense?"
   ]
  },
  {
   "cell_type": "markdown",
   "metadata": {
    "id": "am0ISj7H-VZn"
   },
   "source": [
    "##### No, Right?\n",
    "\n",
    "- That's where Encapsulation comes into picture.\n",
    "- Now let's see how to encapsulate our code.\n",
    "- To do that we have to create a function.\n"
   ]
  },
  {
   "cell_type": "code",
   "execution_count": null,
   "metadata": {
    "id": "Ed3ZPqjE-VZo",
    "outputId": "9c62950c-31c7-4e58-f5e7-01e4ee3721f9"
   },
   "outputs": [
    {
     "name": "stdout",
     "output_type": "stream",
     "text": [
      "500\n"
     ]
    }
   ],
   "source": [
    "# Now let's create a function to set the speed\n",
    "\n",
    "class Car:\n",
    "    def __init__(self,speed,color):\n",
    "        self.speed = speed\n",
    "        self.color = color\n",
    "    \n",
    "    def set_speed(self,value): # Setter for the attribute speed\n",
    "        self.speed = value\n",
    "        \n",
    "    # Getter for the attribute speed\n",
    "    def get_speed(self): # To get we don't have to pass any arguments\n",
    "        return self.speed\n",
    "\n",
    "ford = Car(200, 'Red')\n",
    "Chev = Car(180,'Blue')\n",
    "Audi = Car (190,\"Black\")\n",
    "\n",
    "ford.set_speed(400)\n",
    "ford.speed = 500\n",
    "print(ford.get_speed())"
   ]
  },
  {
   "cell_type": "markdown",
   "metadata": {
    "id": "9d1dxvlh-VZo"
   },
   "source": [
    "Now let's try to change the speed to 500 using ford.speed = 500 . Will it work?"
   ]
  },
  {
   "cell_type": "code",
   "execution_count": null,
   "metadata": {
    "id": "EO6qR4wG-VZo",
    "outputId": "d5096cf0-6313-4781-f565-330cf4de7f48"
   },
   "outputs": [
    {
     "name": "stdout",
     "output_type": "stream",
     "text": [
      "500\n"
     ]
    }
   ],
   "source": [
    "# Now let's create a function to set the speed\n",
    "\n",
    "class Car:\n",
    "    def __init__(self,speed,color):\n",
    "        self.speed = speed\n",
    "        self.color = color\n",
    "    \n",
    "    def set_speed(self,value): # Setter for the attribute speed\n",
    "        self.speed = value\n",
    "        \n",
    "    # Getter for the attribute speed\n",
    "    def get_speed(self): # To get we don't have to pass any arguments\n",
    "        return self.speed\n",
    "\n",
    "ford = Car(200, 'Red')\n",
    "Chev = Car(180,'Blue')\n",
    "Audi = Car (190,\"Black\")\n",
    "\n",
    "ford.set_speed(400)\n",
    "ford.speed = 500\n",
    "print(ford.get_speed())"
   ]
  },
  {
   "cell_type": "markdown",
   "metadata": {
    "id": "eZWkZSGd-VZp"
   },
   "source": [
    "So some how we need to make our attribute private.\n",
    "In some other Object Oriented Programming Languages we use certain keywords like public,private and protected in order to mark their memmber variables as public,private or protected.\n",
    "But Python doesn't have any of these Keywords.\n"
   ]
  },
  {
   "cell_type": "code",
   "execution_count": null,
   "metadata": {
    "id": "B7u0-jhr-VZp",
    "outputId": "57e7ceba-6f50-436b-df3d-64126fbcf2f1"
   },
   "outputs": [
    {
     "name": "stdout",
     "output_type": "stream",
     "text": [
      "15\n",
      "30\n"
     ]
    },
    {
     "ename": "AttributeError",
     "evalue": "'Hello' object has no attribute '__c'",
     "output_type": "error",
     "traceback": [
      "\u001b[1;31m---------------------------------------------------------------------------\u001b[0m",
      "\u001b[1;31mAttributeError\u001b[0m                            Traceback (most recent call last)",
      "\u001b[1;32m<ipython-input-7-f03ed87fdb07>\u001b[0m in \u001b[0;36m<module>\u001b[1;34m\u001b[0m\n\u001b[0;32m      8\u001b[0m \u001b[0mprint\u001b[0m\u001b[1;33m(\u001b[0m\u001b[0mhello\u001b[0m\u001b[1;33m.\u001b[0m\u001b[0ma\u001b[0m\u001b[1;33m)\u001b[0m\u001b[1;33m\u001b[0m\u001b[1;33m\u001b[0m\u001b[0m\n\u001b[0;32m      9\u001b[0m \u001b[0mprint\u001b[0m\u001b[1;33m(\u001b[0m\u001b[0mhello\u001b[0m\u001b[1;33m.\u001b[0m\u001b[0m_b\u001b[0m\u001b[1;33m)\u001b[0m\u001b[1;33m\u001b[0m\u001b[1;33m\u001b[0m\u001b[0m\n\u001b[1;32m---> 10\u001b[1;33m \u001b[0mprint\u001b[0m\u001b[1;33m(\u001b[0m\u001b[0mhello\u001b[0m\u001b[1;33m.\u001b[0m\u001b[0m__c\u001b[0m\u001b[1;33m)\u001b[0m\u001b[1;33m\u001b[0m\u001b[1;33m\u001b[0m\u001b[0m\n\u001b[0m",
      "\u001b[1;31mAttributeError\u001b[0m: 'Hello' object has no attribute '__c'"
     ]
    }
   ],
   "source": [
    "class Hello:\n",
    "    def __init__(self,name):\n",
    "        self.a = 15 # Public\n",
    "        self._b =30 # Protected\n",
    "        self.__c = 40 # Private\n",
    "\n",
    "hello = Hello('name')\n",
    "print(hello.a)\n",
    "print(hello._b)\n",
    "print(hello.__c)"
   ]
  },
  {
   "cell_type": "code",
   "execution_count": null,
   "metadata": {
    "id": "ySAHCPgR-VZp"
   },
   "outputs": [],
   "source": []
  },
  {
   "cell_type": "markdown",
   "metadata": {
    "id": "emO-c2dX-VZp"
   },
   "source": [
    "- Here the attribute __c can be used to make your attribute private.\n",
    "- No keywords like private exists in Python.Whenever you use double underscores it makes your data private.\n",
    "- When you use single underscore also it makes it private but nothing can stop you from changing the value of _b or accessing _b\n",
    "- So if you truely want to make your data private please use double underscores in front of your variable.\n"
   ]
  },
  {
   "cell_type": "code",
   "execution_count": null,
   "metadata": {
    "id": "oaT5BiNa-VZq",
    "outputId": "badc3f25-9c42-4839-fa6b-713d2308e420",
    "scrolled": true
   },
   "outputs": [
    {
     "name": "stdout",
     "output_type": "stream",
     "text": [
      "400\n"
     ]
    },
    {
     "ename": "AttributeError",
     "evalue": "'Car' object has no attribute 'color'",
     "output_type": "error",
     "traceback": [
      "\u001b[1;31m---------------------------------------------------------------------------\u001b[0m",
      "\u001b[1;31mAttributeError\u001b[0m                            Traceback (most recent call last)",
      "\u001b[1;32m<ipython-input-6-6bd71f166eca>\u001b[0m in \u001b[0;36m<module>\u001b[1;34m\u001b[0m\n\u001b[0;32m     18\u001b[0m \u001b[0mford\u001b[0m\u001b[1;33m.\u001b[0m\u001b[0m__speed\u001b[0m \u001b[1;33m=\u001b[0m \u001b[1;36m500\u001b[0m\u001b[1;33m\u001b[0m\u001b[1;33m\u001b[0m\u001b[0m\n\u001b[0;32m     19\u001b[0m \u001b[0mprint\u001b[0m\u001b[1;33m(\u001b[0m\u001b[0mford\u001b[0m\u001b[1;33m.\u001b[0m\u001b[0mget_speed\u001b[0m\u001b[1;33m(\u001b[0m\u001b[1;33m)\u001b[0m\u001b[1;33m)\u001b[0m\u001b[1;33m\u001b[0m\u001b[1;33m\u001b[0m\u001b[0m\n\u001b[1;32m---> 20\u001b[1;33m \u001b[0mprint\u001b[0m\u001b[1;33m(\u001b[0m\u001b[0mford\u001b[0m\u001b[1;33m.\u001b[0m\u001b[0mcolor\u001b[0m\u001b[1;33m(\u001b[0m\u001b[1;33m)\u001b[0m\u001b[1;33m)\u001b[0m\u001b[1;33m\u001b[0m\u001b[1;33m\u001b[0m\u001b[0m\n\u001b[0m",
      "\u001b[1;31mAttributeError\u001b[0m: 'Car' object has no attribute 'color'"
     ]
    }
   ],
   "source": [
    "class Car:\n",
    "    def __init__(self,speed,color):\n",
    "        self.__speed = speed\n",
    "        self.__color = color\n",
    "    \n",
    "    def set_speed(self,value): # Setter for the attribute speed\n",
    "        self.__speed = value\n",
    "        \n",
    "    # Getter for the attribute speed\n",
    "    def get_speed(self): # To get we don't have to pass any arguments\n",
    "        return self.__speed\n",
    "    \n",
    "ford = Car(200, 'Red')\n",
    "Chev = Car(180,'Blue')\n",
    "Audi = Car (190,\"Black\")\n",
    "\n",
    "ford.set_speed(400)\n",
    "ford.__speed = 500\n",
    "print(ford.get_speed())\n",
    "print(ford.color())"
   ]
  },
  {
   "cell_type": "markdown",
   "metadata": {
    "id": "U4vODheR-VZq"
   },
   "source": [
    "- From the above it is clear that you can not access color because now it is a private attribute.\n",
    "- Now you can create setter and getter method for color also."
   ]
  },
  {
   "cell_type": "code",
   "execution_count": null,
   "metadata": {
    "id": "ZCWDIu2d-VZq"
   },
   "outputs": [],
   "source": [
    "class Car:\n",
    "    def __init__(self,speed,color):\n",
    "        self.__speed = speed\n",
    "        self.__color = color\n",
    "    \n",
    "    def set_speed(self,value): # Setter for the attribute speed\n",
    "        self.__speed = value\n",
    "        \n",
    "    # Getter for the attribute speed\n",
    "    def get_speed(self): # To get we don't have to pass any arguments\n",
    "        return self.__speed\n",
    "    \n",
    "    def set_color(self,value): # Setter for the attribute color\n",
    "        self.__color = value\n",
    "        \n",
    "    # Getter for the attribute color\n",
    "    def get_color(self): # To get we don't have to pass any arguments\n",
    "        return self.__color\n",
    "    \n",
    "ford = Car(200, 'Red')\n",
    "Chev = Car(180,'Blue')\n",
    "Audi = Car (190,\"Black\")\n",
    "\n",
    "ford.set_speed(400)\n",
    "ford.__speed = 500\n"
   ]
  },
  {
   "cell_type": "markdown",
   "metadata": {
    "id": "efY4wFDj-VZr"
   },
   "source": [
    "So this type of restricting your data access using functions is called encapsulation."
   ]
  },
  {
   "cell_type": "code",
   "execution_count": null,
   "metadata": {
    "id": "tS3QXgfC-VZr"
   },
   "outputs": [],
   "source": [
    "class Rectangle:\n",
    "    def __init__(self,length,width):\n",
    "        self.__length = length\n",
    "        self.__width = width\n",
    "    \n",
    "    def set_length(self,length):\n",
    "        self.__length = length\n",
    "    \n",
    "    def get_length(self,length):\n",
    "        return self.__length\n",
    "    \n",
    "    def set_width(self,width):\n",
    "        self.__width = width\n",
    "    \n",
    "    def get_width(self,width):\n",
    "        return self.__width\n",
    "    \n",
    "    def area(self):\n",
    "        self.__length * self__width\n",
    "        \n",
    "rect1 = Rectangle(60,20)\n",
    "rect2 = Rectangle(50,30)\n",
    "\n",
    "        \n",
    "        "
   ]
  },
  {
   "cell_type": "markdown",
   "metadata": {
    "id": "a9u_l8S5-VZr"
   },
   "source": [
    "### Protected members\n",
    "Protected members (in C++ and JAVA) are those members of the class which cannot be accessed outside the class but can be accessed from within the class and it’s subclasses. To accomplish this in Python, just follow the convention by prefixing the name of the member by a single underscore “_”."
   ]
  },
  {
   "cell_type": "code",
   "execution_count": null,
   "metadata": {
    "id": "_H2To2q8-VZr",
    "outputId": "d9b74b7b-77fb-4f9d-909b-de47c3713a53"
   },
   "outputs": [
    {
     "name": "stdout",
     "output_type": "stream",
     "text": [
      "Calling protected member of base class: \n",
      "2\n"
     ]
    },
    {
     "ename": "AttributeError",
     "evalue": "'Base' object has no attribute 'a'",
     "output_type": "error",
     "traceback": [
      "\u001b[1;31m---------------------------------------------------------------------------\u001b[0m",
      "\u001b[1;31mAttributeError\u001b[0m                            Traceback (most recent call last)",
      "\u001b[1;32m<ipython-input-9-026a88cb4880>\u001b[0m in \u001b[0;36m<module>\u001b[1;34m\u001b[0m\n\u001b[0;32m     26\u001b[0m \u001b[1;31m# Outside class will  result in\u001b[0m\u001b[1;33m\u001b[0m\u001b[1;33m\u001b[0m\u001b[1;33m\u001b[0m\u001b[0m\n\u001b[0;32m     27\u001b[0m \u001b[1;31m# AttributeError\u001b[0m\u001b[1;33m\u001b[0m\u001b[1;33m\u001b[0m\u001b[1;33m\u001b[0m\u001b[0m\n\u001b[1;32m---> 28\u001b[1;33m \u001b[0mprint\u001b[0m\u001b[1;33m(\u001b[0m\u001b[0mobj2\u001b[0m\u001b[1;33m.\u001b[0m\u001b[0ma\u001b[0m\u001b[1;33m)\u001b[0m\u001b[1;33m\u001b[0m\u001b[1;33m\u001b[0m\u001b[0m\n\u001b[0m",
      "\u001b[1;31mAttributeError\u001b[0m: 'Base' object has no attribute 'a'"
     ]
    }
   ],
   "source": [
    "# Python program to \n",
    "# demonstrate protected members \n",
    "  \n",
    "# Creating a base class \n",
    "class Base: \n",
    "    def __init__(self): \n",
    "          \n",
    "        # Protected member \n",
    "        self._a = 2\n",
    "\n",
    "# Creating a derived class     \n",
    "class Derived(Base): \n",
    "    def __init__(self): \n",
    "          \n",
    "        # Calling constructor of \n",
    "        # Base class \n",
    "        Base.__init__(self)  \n",
    "        print(\"Calling protected member of base class: \") \n",
    "        print(self._a) \n",
    "\n",
    "obj1 = Derived() \n",
    "          \n",
    "obj2 = Base() \n",
    "  \n",
    "# Calling protected member \n",
    "# Outside class will  result in  \n",
    "# AttributeError \n",
    "print(obj2.a) "
   ]
  },
  {
   "cell_type": "markdown",
   "metadata": {
    "id": "HORi38CD-VZs"
   },
   "source": [
    "### Private members\n",
    "Private members are similar to protected members, the difference is that the class members declared private should neither be accessed outside the class nor by any base class. In Python, there is no existence of Private instance variables that cannot be accessed except inside a class. However, to define a private member prefix the member name with double underscore “__”.\n",
    "\n",
    "Note: Python’s private and protect member can be accessed outside the class through python name mangling."
   ]
  },
  {
   "cell_type": "code",
   "execution_count": null,
   "metadata": {
    "id": "nbaLNTH8-VZs",
    "outputId": "6f90f8f3-0707-44bf-bbb3-24b656ec60ac"
   },
   "outputs": [
    {
     "name": "stdout",
     "output_type": "stream",
     "text": [
      "Datascience\n"
     ]
    }
   ],
   "source": [
    "# Python program to  \n",
    "# demonstrate private members \n",
    "  \n",
    "# Creating a Base class \n",
    "class Base: \n",
    "    def __init__(self): \n",
    "        self.a = \"Datascience\"\n",
    "        self.__c = \"Datascience\"\n",
    "\n",
    "# Creating a derived class \n",
    "class Derived(Base): \n",
    "    def __init__(self): \n",
    "          \n",
    "        # Calling constructor of \n",
    "        # Base class \n",
    "        Base.__init__(self)  \n",
    "        print(\"Calling private member of base class: \") \n",
    "        print(self.__a) \n",
    "# Driver code \n",
    "obj1 = Base() \n",
    "print(obj1.a) \n",
    "  \n",
    "# Uncommenting print(obj1.c) will \n",
    "# raise an AttributeError \n",
    "  \n",
    "# Uncommenting obj2 = Derived() will \n",
    "# also raise an AtrributeError as \n",
    "# private member of base class  \n",
    "# is called inside derived class"
   ]
  },
  {
   "cell_type": "markdown",
   "metadata": {
    "id": "NTd_uFzQ-VZs"
   },
   "source": []
  }
 ],
 "metadata": {
  "colab": {
   "name": "Encapsulation In Python.ipynb",
   "provenance": []
  },
  "kernelspec": {
   "display_name": "Python 3",
   "language": "python",
   "name": "python3"
  },
  "language_info": {
   "codemirror_mode": {
    "name": "ipython",
    "version": 3
   },
   "file_extension": ".py",
   "mimetype": "text/x-python",
   "name": "python",
   "nbconvert_exporter": "python",
   "pygments_lexer": "ipython3",
   "version": "3.8.8"
  }
 },
 "nbformat": 4,
 "nbformat_minor": 1
}
